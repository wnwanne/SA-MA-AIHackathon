{
 "cells": [
  {
   "cell_type": "markdown",
   "id": "e0fee4a8",
   "metadata": {},
   "source": [
    "## Purpose of this notebook is to demonstrate how to use SK to create an agent orchestrator with task decomposition"
   ]
  },
  {
   "cell_type": "code",
   "execution_count": 4,
   "id": "891d5f8c",
   "metadata": {},
   "outputs": [
    {
     "name": "stdout",
     "output_type": "stream",
     "text": [
      "Semantic Kernel version: 1.29.0\n"
     ]
    }
   ],
   "source": [
    "import json\n",
    "import os\n",
    "import importlib.metadata\n",
    "\n",
    "from typing import Annotated\n",
    "\n",
    "from IPython.display import display, HTML\n",
    "\n",
    "from dotenv import load_dotenv\n",
    "\n",
    "from pydantic import BaseModel, ValidationError, Field\n",
    "from typing import Optional, List, Dict, Any\n",
    "\n",
    "from azure.core.credentials import AzureKeyCredential\n",
    "from azure.search.documents import SearchClient\n",
    "from azure.search.documents.indexes import SearchIndexClient\n",
    "from azure.search.documents.indexes.models import SearchIndex, SimpleField, SearchFieldDataType, SearchableField\n",
    "\n",
    "from openai import AsyncOpenAI\n",
    "\n",
    "from semantic_kernel.agents import ChatCompletionAgent, ChatHistoryAgentThread\n",
    "from semantic_kernel.connectors.ai.open_ai import AzureChatCompletion, OpenAIChatPromptExecutionSettings\n",
    "from semantic_kernel.contents import FunctionCallContent,FunctionResultContent, StreamingTextContent\n",
    "from semantic_kernel.functions import kernel_function, KernelArguments\n",
    "print(\"Semantic Kernel version:\", importlib.metadata.version(\"semantic-kernel\"))\n"
   ]
  },
  {
   "cell_type": "markdown",
   "id": "8a335e21",
   "metadata": {},
   "source": [
    "## Initiatlize Chat Completion Service"
   ]
  },
  {
   "cell_type": "code",
   "execution_count": 9,
   "id": "2d21ac38",
   "metadata": {},
   "outputs": [],
   "source": [
    "load_dotenv()\n",
    "\n",
    "# Initialize the Azure OpenAI completion service\n",
    "chat_completion_service = AzureChatCompletion(\n",
    "    deployment_name=os.environ[\"AZURE_OPENAI_DEPLOYMENT_NAME\"],\n",
    "    api_key=os.environ[\"AZURE_OPENAI_API_KEY\"],\n",
    "    endpoint=os.environ[\"AZURE_OPENAI_ENDPOINT\"],              \n",
    "    api_version=\"2024-12-01-preview\"                                    \n",
    ")\n"
   ]
  },
  {
   "cell_type": "markdown",
   "id": "d65efb03",
   "metadata": {},
   "source": [
    "## Create Task Decomposition Structure"
   ]
  },
  {
   "cell_type": "code",
   "execution_count": 10,
   "id": "848d4a8c",
   "metadata": {},
   "outputs": [],
   "source": [
    "class SubTask(BaseModel):\n",
    "    assigned_agent: str = Field(\n",
    "        description=\"The specific agent assigned to handle this subtask\")\n",
    "    task_details: str = Field(\n",
    "        description=\"Detailed description of what needs to be done for this subtask\")\n",
    "\n",
    "\n",
    "class SearchPlan(BaseModel):\n",
    "    main_task: str = Field(\n",
    "        description=\"The overall search request from the user\")\n",
    "    subtasks: List[SubTask] = Field(\n",
    "        description=\"List of subtasks broken down from the main task, each assigned to a specialized agent\")"
   ]
  },
  {
   "cell_type": "markdown",
   "id": "f77200be",
   "metadata": {},
   "source": [
    "## Define Plugins (Tools)"
   ]
  },
  {
   "cell_type": "code",
   "execution_count": 11,
   "id": "59ef46f5",
   "metadata": {},
   "outputs": [],
   "source": [
    "class SearchPlugin:\n",
    "    \"\"\"A Plugin that retrieves documents from an Azure Search service.\"\"\"\n",
    "\n",
    "    def __init__(self, search_client: SearchClient):\n",
    "        self.search_client = search_client\n",
    "\n",
    "    @kernel_function(\n",
    "        name=\"build_augmented_prompt\",\n",
    "        description=\"Build an augmented prompt using retrieval context or function results.\",\n",
    "    )\n",
    "    def build_augmented_prompt(self, query: str, retrieval_context: str) -> str:\n",
    "        return (\n",
    "            f\"Retrieved Context:\\n{retrieval_context}\\n\\n\"\n",
    "            f\"User Query: {query}\\n\\n\"\n",
    "            \"First review the retrieved context, if this does not answer the query, try calling an available plugin functions that might give you an answer. If no context is available, say so.\"\n",
    "        )\n",
    "    \n",
    "    @kernel_function(\n",
    "        name=\"retrieve_documents\",\n",
    "        description=\"Retrieve documents from the Azure Search service.\",\n",
    "    )\n",
    "    def get_retrieval_context(self, query: str) -> str:\n",
    "        results = self.search_client.search(query)\n",
    "        context_strings = []\n",
    "        for result in results:\n",
    "            context_strings.append(f\"Document: {result['content']}\")\n",
    "        return \"\\n\\n\".join(context_strings) if context_strings else \"No results found\"\n",
    "    \n",
    "\n",
    "\n",
    "\n",
    "class WeatherInfoPlugin:\n",
    "    \"\"\"A Plugin that provides the average temperature for a travel destination.\"\"\"\n",
    "\n",
    "    def __init__(self):\n",
    "        # Dictionary of destinations and their average temperatures\n",
    "        self.destination_temperatures = {\n",
    "            \"maldives\": \"82°F (28°C)\",\n",
    "            \"swiss alps\": \"45°F (7°C)\",\n",
    "            \"african safaris\": \"75°F (24°C)\"\n",
    "        }\n",
    "\n",
    "    @kernel_function(description=\"Get the average temperature for a specific travel destination.\")\n",
    "    def get_destination_temperature(self, destination: str) -> Annotated[str, \"Returns the average temperature for the destination.\"]:\n",
    "        \"\"\"Get the average temperature for a travel destination.\"\"\"\n",
    "        # Normalize the input destination (lowercase)\n",
    "        normalized_destination = destination.lower()\n",
    "\n",
    "        # Look up the temperature for the destination\n",
    "        if normalized_destination in self.destination_temperatures:\n",
    "            return f\"The average temperature in {destination} is {self.destination_temperatures[normalized_destination]}.\"\n",
    "        else:\n",
    "            return f\"Sorry, I don't have temperature information for {destination}. Available destinations are: Maldives, Swiss Alps, and African safaris.\"\n",
    "\n",
    "\n",
    "     "
   ]
  },
  {
   "cell_type": "markdown",
   "id": "703b8bf4",
   "metadata": {},
   "source": [
    "## Create Agent via AI Agent Service"
   ]
  },
  {
   "cell_type": "code",
   "execution_count": 12,
   "id": "d2a50dc1",
   "metadata": {},
   "outputs": [],
   "source": [
    "AGENT_NAME = \"SearchAgent\"\n",
    "AGENT_INSTRUCTIONS = \"\"\"You are an search agent.\n",
    "    Your job is to decide which agents to run based on the user's request.\n",
    "    Below are the available agents specialised in different tasks:\n",
    "    - AISearch: For finding information in documents using Azure Search\n",
    "    - WeatherInfo: For providing average temperature information for travel destinations\n",
    "    - DefaultAgent: For handling general requests\"\"\"\n",
    "\n",
    "# Create the prompt execution settings and configure the Pydantic model response format\n",
    "settings = OpenAIChatPromptExecutionSettings(response_format=SearchPlan)\n",
    "\n",
    "agent = ChatCompletionAgent(\n",
    "    service=chat_completion_service,\n",
    "    name=AGENT_NAME,\n",
    "    instructions=AGENT_INSTRUCTIONS,\n",
    "    arguments=KernelArguments(settings) \n",
    ")\n"
   ]
  },
  {
   "cell_type": "markdown",
   "id": "60b046c0",
   "metadata": {},
   "source": [
    "## Show Plan Decomposition based on available agents"
   ]
  },
  {
   "cell_type": "code",
   "execution_count": 15,
   "id": "1b6471cb",
   "metadata": {},
   "outputs": [
    {
     "data": {
      "text/html": [
       "<div style='margin-bottom:10px'><div style='font-weight:bold'>User:</div><div style='margin-left:20px'>What is a good cold destination offered by Contoso and what is it average temperature?</div></div><div style='margin-bottom:20px'><div style='font-weight:bold'>Validated Travel Plan:</div><pre style='margin-left:20px; padding:10px; border-radius:5px;'>{\n",
       "    \"main_task\": \"Find a good cold travel destination offered by Contoso and provide its average temperature.\",\n",
       "    \"subtasks\": [\n",
       "        {\n",
       "            \"assigned_agent\": \"AISearch\",\n",
       "            \"task_details\": \"Identify a cold (low average temperature) destination offered by Contoso from the available travel options.\"\n",
       "        },\n",
       "        {\n",
       "            \"assigned_agent\": \"WeatherInfo\",\n",
       "            \"task_details\": \"Provide the average temperature for the identified cold destination.\"\n",
       "        }\n",
       "    ]\n",
       "}</pre></div><hr>"
      ],
      "text/plain": [
       "<IPython.core.display.HTML object>"
      ]
     },
     "metadata": {},
     "output_type": "display_data"
    }
   ],
   "source": [
    "async def main():\n",
    "    # Create a thread for the agent\n",
    "    # If no thread is provided, a new thread will be\n",
    "    # created and returned with the initial response\n",
    "    thread: ChatHistoryAgentThread | None = None\n",
    "\n",
    "    # Respond to user input\n",
    "    user_inputs = [\n",
    "        \"What is a good cold destination offered by Contoso and what is it average temperature?\",\n",
    "    ]\n",
    "\n",
    "    for user_input in user_inputs:\n",
    "        \n",
    "        # Start building HTML output\n",
    "        html_output = \"<div style='margin-bottom:10px'>\"\n",
    "        html_output += \"<div style='font-weight:bold'>User:</div>\"\n",
    "        html_output += f\"<div style='margin-left:20px'>{user_input}</div>\"\n",
    "        html_output += \"</div>\"\n",
    "\n",
    "        # Collect the agent's response\n",
    "        response = await agent.get_response(messages=user_input, thread=thread)\n",
    "        thread = response.thread\n",
    "\n",
    "        try:\n",
    "            # Try to validate the response as a TravelPlan\n",
    "            travel_plan = SearchPlan.model_validate(json.loads(response.message.content))\n",
    "\n",
    "            # Display the validated model as formatted JSON\n",
    "            formatted_json = travel_plan.model_dump_json(indent=4)\n",
    "            html_output += \"<div style='margin-bottom:20px'>\"\n",
    "            html_output += \"<div style='font-weight:bold'>Validated Travel Plan:</div>\"\n",
    "            html_output += f\"<pre style='margin-left:20px; padding:10px; border-radius:5px;'>{formatted_json}</pre>\"\n",
    "            html_output += \"</div>\"\n",
    "        except ValidationError as e:\n",
    "            # Handle validation errors\n",
    "            html_output += \"<div style='margin-bottom:20px; color:red;'>\"\n",
    "            html_output += \"<div style='font-weight:bold'>Validation Error:</div>\"\n",
    "            html_output += f\"<pre style='margin-left:20px;'>{str(e)}</pre>\"\n",
    "            html_output += \"</div>\"\n",
    "            # Add this to see what the response contains for debugging\n",
    "            html_output += \"<div style='margin-bottom:20px;'>\"\n",
    "            html_output += \"<div style='font-weight:bold'>Raw Response:</div>\"\n",
    "            html_output += f\"<div style='margin-left:20px; white-space:pre-wrap'>{response.content}</div>\"\n",
    "            html_output += \"</div>\"\n",
    "\n",
    "        html_output += \"<hr>\"\n",
    "\n",
    "        # Display formatted HTML\n",
    "        display(HTML(html_output))\n",
    "\n",
    "await main()"
   ]
  },
  {
   "cell_type": "markdown",
   "id": "07509034",
   "metadata": {},
   "source": [
    "## Vector Database Initialization\n",
    "\n",
    "We initialize Azure AI Search with persistent storage and add enhanced sample documents. Azure AI Search will be used to store and retrieve documents that provide context for generating accurate responses."
   ]
  },
  {
   "cell_type": "code",
   "execution_count": 11,
   "id": "a1185bba",
   "metadata": {},
   "outputs": [
    {
     "name": "stdout",
     "output_type": "stream",
     "text": [
      "Creating new index 'travel-documents'...\n"
     ]
    },
    {
     "data": {
      "text/plain": [
       "[<azure.search.documents._generated.models._models_py3.IndexingResult at 0x12c4dafe7d0>,\n",
       " <azure.search.documents._generated.models._models_py3.IndexingResult at 0x12c4f572790>,\n",
       " <azure.search.documents._generated.models._models_py3.IndexingResult at 0x12c4f572750>,\n",
       " <azure.search.documents._generated.models._models_py3.IndexingResult at 0x12c4f572810>,\n",
       " <azure.search.documents._generated.models._models_py3.IndexingResult at 0x12c4f572890>]"
      ]
     },
     "execution_count": 11,
     "metadata": {},
     "output_type": "execute_result"
    }
   ],
   "source": [
    "# Initialize Azure AI Search with persistent storage\n",
    "search_service_endpoint = os.getenv(\"AZURE_SEARCH_SERVICE_ENDPOINT\")\n",
    "search_api_key = os.getenv(\"AZURE_SEARCH_API_KEY\")\n",
    "index_name = \"travel-documents\"\n",
    "\n",
    "search_client = SearchClient(\n",
    "    endpoint=search_service_endpoint,\n",
    "    index_name=index_name,\n",
    "    credential=AzureKeyCredential(search_api_key)\n",
    ")\n",
    "\n",
    "index_client = SearchIndexClient(\n",
    "    endpoint=search_service_endpoint,\n",
    "    credential=AzureKeyCredential(search_api_key)\n",
    ")\n",
    "\n",
    "# Define the index schema\n",
    "fields = [\n",
    "    SimpleField(name=\"id\", type=SearchFieldDataType.String, key=True),\n",
    "    SearchableField(name=\"content\", type=SearchFieldDataType.String)\n",
    "]\n",
    "\n",
    "index = SearchIndex(name=index_name, fields=fields)\n",
    "\n",
    "# Check if index already exists if not, create it\n",
    "try:\n",
    "    existing_index = index_client.get_index(index_name)\n",
    "    print(f\"Index '{index_name}' already exists, using the existing index.\")\n",
    "except Exception:\n",
    "    # Create the index if it doesn't exist\n",
    "    print(f\"Creating new index '{index_name}'...\")\n",
    "    index_client.create_index(index)\n",
    "\n",
    "\n",
    "# Enhanced sample documents\n",
    "documents = [\n",
    "    {\"id\": \"1\", \"content\": \"Contoso Travel offers luxury vacation packages to exotic destinations worldwide.\"},\n",
    "    {\"id\": \"2\", \"content\": \"Our premium travel services include personalized itinerary planning and 24/7 concierge support.\"},\n",
    "    {\"id\": \"3\", \"content\": \"Contoso's travel insurance covers medical emergencies, trip cancellations, and lost baggage.\"},\n",
    "    {\"id\": \"4\", \"content\": \"Popular destinations include the Maldives, Swiss Alps, and African safaris.\"},\n",
    "    {\"id\": \"5\", \"content\": \"Contoso Travel provides exclusive access to boutique hotels and private guided tours.\"}\n",
    "]\n",
    "\n",
    "# Add documents to the index\n",
    "search_client.upload_documents(documents)"
   ]
  },
  {
   "cell_type": "markdown",
   "id": "fbb2b862",
   "metadata": {},
   "source": [
    "## Create Agent\n",
    "\n",
    "Connect LLM w/ Tools"
   ]
  },
  {
   "cell_type": "code",
   "execution_count": 12,
   "id": "5137cdf3",
   "metadata": {},
   "outputs": [],
   "source": [
    "agent = ChatCompletionAgent(\n",
    "    service=chat_completion_service,\n",
    "    plugins=[SearchPlugin(search_client=search_client), WeatherInfoPlugin()],\n",
    "    name=\"TravelAgent\",\n",
    "    instructions=\"Answer travel queries using the provided tools and context. If context is provided, do not say 'I have no context for that.'\",\n",
    ")\n"
   ]
  },
  {
   "cell_type": "code",
   "execution_count": 13,
   "id": "f305d85d",
   "metadata": {},
   "outputs": [
    {
     "data": {
      "text/html": [
       "<div style='margin-bottom:10px'><div style='font-weight:bold'>User:</div><div style='margin-left:20px'>What is a good cold destination offered by Contoso and what is it average temperature?</div></div><div style='margin-bottom:20px'><div style='font-weight:bold'>SearchAgent:</div><div style='margin-left:20px; white-space:pre-wrap'>{\"main_task\":\"Find a good cold travel destination offered by Contoso and state its average temperature.\",\"subtasks\":[{\"assigned_agent\":\"AISearch\",\"task_details\":\"Identify a travel destination offered by Contoso that is known for being cold.\"},{\"assigned_agent\":\"WeatherInfo\",\"task_details\":\"Provide the average temperature for the cold destination chosen from the first task.\"}]}</div></div><hr>"
      ],
      "text/plain": [
       "<IPython.core.display.HTML object>"
      ]
     },
     "metadata": {},
     "output_type": "display_data"
    }
   ],
   "source": [
    "async def main():\n",
    "    thread: ChatHistoryAgentThread | None = None\n",
    "\n",
    "    user_inputs = [\n",
    "        \"What is a good cold destination offered by Contoso and what is it average temperature?\",\n",
    "    ]\n",
    "\n",
    "    for user_input in user_inputs:\n",
    "        html_output = (\n",
    "            f\"<div style='margin-bottom:10px'>\"\n",
    "            f\"<div style='font-weight:bold'>User:</div>\"\n",
    "            f\"<div style='margin-left:20px'>{user_input}</div></div>\"\n",
    "        )\n",
    "\n",
    "        agent_name = None\n",
    "        full_response: list[str] = []\n",
    "        function_calls: list[str] = []\n",
    "\n",
    "        # Buffer to reconstruct streaming function call\n",
    "        current_function_name = None\n",
    "        argument_buffer = \"\"\n",
    "\n",
    "        async for response in agent.invoke_stream(\n",
    "            messages=user_input,\n",
    "            thread=thread,\n",
    "        ):\n",
    "            thread = response.thread\n",
    "            agent_name = response.name\n",
    "            content_items = list(response.items)\n",
    "\n",
    "            for item in content_items:\n",
    "                if isinstance(item, FunctionCallContent):\n",
    "                    if item.function_name:\n",
    "                        current_function_name = item.function_name\n",
    "\n",
    "                    # Accumulate arguments (streamed in chunks)\n",
    "                    if isinstance(item.arguments, str):\n",
    "                        argument_buffer += item.arguments\n",
    "                elif isinstance(item, FunctionResultContent):\n",
    "                    # Finalize any pending function call before showing result\n",
    "                    if current_function_name:\n",
    "                        formatted_args = argument_buffer.strip()\n",
    "                        try:\n",
    "                            parsed_args = json.loads(formatted_args)\n",
    "                            formatted_args = json.dumps(parsed_args)\n",
    "                        except Exception:\n",
    "                            pass  # leave as raw string\n",
    "\n",
    "                        function_calls.append(f\"Calling function: {current_function_name}({formatted_args})\")\n",
    "                        current_function_name = None\n",
    "                        argument_buffer = \"\"\n",
    "\n",
    "                    function_calls.append(f\"\\nFunction Result:\\n\\n{item.result}\")\n",
    "                elif isinstance(item, StreamingTextContent) and item.text:\n",
    "                    full_response.append(item.text)\n",
    "\n",
    "        if function_calls:\n",
    "            html_output += (\n",
    "                \"<div style='margin-bottom:10px'>\"\n",
    "                \"<details>\"\n",
    "                \"<summary style='cursor:pointer; font-weight:bold; color:#0066cc;'>Function Calls (click to expand)</summary>\"\n",
    "                \"<div style='margin:10px; padding:10px; background-color:#f8f8f8; \"\n",
    "                \"border:1px solid #ddd; border-radius:4px; white-space:pre-wrap; font-size:14px; color:#333;'>\"\n",
    "                f\"{chr(10).join(function_calls)}\"\n",
    "                \"</div></details></div>\"\n",
    "            )\n",
    "\n",
    "        html_output += (\n",
    "            \"<div style='margin-bottom:20px'>\"\n",
    "            f\"<div style='font-weight:bold'>{agent_name or 'Assistant'}:</div>\"\n",
    "            f\"<div style='margin-left:20px; white-space:pre-wrap'>{''.join(full_response)}</div></div><hr>\"\n",
    "        )\n",
    "\n",
    "        display(HTML(html_output))\n",
    "\n",
    "await main()\n"
   ]
  }
 ],
 "metadata": {
  "kernelspec": {
   "display_name": "Python 3",
   "language": "python",
   "name": "python3"
  },
  "language_info": {
   "codemirror_mode": {
    "name": "ipython",
    "version": 3
   },
   "file_extension": ".py",
   "mimetype": "text/x-python",
   "name": "python",
   "nbconvert_exporter": "python",
   "pygments_lexer": "ipython3",
   "version": "3.11.9"
  }
 },
 "nbformat": 4,
 "nbformat_minor": 5
}
