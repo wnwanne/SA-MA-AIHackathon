{
 "cells": [
  {
   "cell_type": "markdown",
   "id": "45132cd1",
   "metadata": {},
   "source": [
    "## Purpose of this notebook is to demonstrate how to use SK to create a single agent"
   ]
  },
  {
   "cell_type": "code",
   "execution_count": 3,
   "id": "891d5f8c",
   "metadata": {},
   "outputs": [
    {
     "name": "stdout",
     "output_type": "stream",
     "text": [
      "Semantic Kernel version: 1.29.0\n"
     ]
    }
   ],
   "source": [
    "import json\n",
    "import os\n",
    "import importlib.metadata\n",
    "\n",
    "from typing import Annotated\n",
    "\n",
    "from IPython.display import display, HTML\n",
    "\n",
    "from dotenv import load_dotenv\n",
    "\n",
    "from azure.core.credentials import AzureKeyCredential\n",
    "from azure.search.documents import SearchClient\n",
    "from azure.search.documents.indexes import SearchIndexClient\n",
    "from azure.search.documents.indexes.models import SearchIndex, SimpleField, SearchFieldDataType, SearchableField\n",
    "\n",
    "from openai import AsyncOpenAI\n",
    "from azure.identity.aio import DefaultAzureCredential\n",
    "from azure.ai.projects import AIProjectClient\n",
    "from azure.identity import DefaultAzureCredential\n",
    "\n",
    "from semantic_kernel.agents import ChatCompletionAgent, ChatHistoryAgentThread, AzureAIAgent, AzureAIAgentSettings\n",
    "from semantic_kernel.connectors.ai.open_ai import AzureChatCompletion\n",
    "from semantic_kernel.contents import FunctionCallContent,FunctionResultContent, StreamingTextContent\n",
    "from semantic_kernel.functions import kernel_function\n",
    "print(\"Semantic Kernel version:\", importlib.metadata.version(\"semantic-kernel\"))\n"
   ]
  },
  {
   "cell_type": "markdown",
   "id": "fbb2b862",
   "metadata": {},
   "source": [
    "## Create Agent using SK\n",
    "\n",
    "Connect LLM w/ Tools"
   ]
  },
  {
   "cell_type": "code",
   "execution_count": 4,
   "id": "2d21ac38",
   "metadata": {},
   "outputs": [],
   "source": [
    "load_dotenv()\n",
    "\n",
    "# Initialize the Azure OpenAI completion service\n",
    "chat_completion_service = AzureChatCompletion(\n",
    "    deployment_name=os.environ[\"AZURE_OPENAI_DEPLOYMENT_NAME\"],\n",
    "    api_key=os.environ[\"AZURE_OPENAI_API_KEY\"],\n",
    "    endpoint=os.environ[\"AZURE_OPENAI_ENDPOINT\"],              \n",
    "    api_version=\"2024-12-01-preview\"                                    \n",
    ")\n"
   ]
  },
  {
   "cell_type": "markdown",
   "id": "fcdc4ffc",
   "metadata": {},
   "source": [
    "## Define Tools (Plugins)"
   ]
  },
  {
   "cell_type": "code",
   "execution_count": 5,
   "id": "59ef46f5",
   "metadata": {},
   "outputs": [],
   "source": [
    "class SearchPlugin:\n",
    "    \"\"\"A Plugin that retrieves documents from an Azure Search service.\"\"\"\n",
    "\n",
    "    def __init__(self, search_client: SearchClient):\n",
    "        self.search_client = search_client\n",
    "\n",
    "    @kernel_function(\n",
    "        name=\"build_augmented_prompt\",\n",
    "        description=\"Build an augmented prompt using retrieval context or function results.\",\n",
    "    )\n",
    "    def build_augmented_prompt(self, query: str, retrieval_context: str) -> str:\n",
    "        return (\n",
    "            f\"Retrieved Context:\\n{retrieval_context}\\n\\n\"\n",
    "            f\"User Query: {query}\\n\\n\"\n",
    "            \"First review the retrieved context, if this does not answer the query, try calling an available plugin functions that might give you an answer. If no context is available, say so.\"\n",
    "        )\n",
    "    \n",
    "    @kernel_function(\n",
    "        name=\"retrieve_documents\",\n",
    "        description=\"Retrieve documents from the Azure Search service.\",\n",
    "    )\n",
    "    def get_retrieval_context(self, query: str) -> str:\n",
    "        results = self.search_client.search(query)\n",
    "        context_strings = []\n",
    "        for result in results:\n",
    "            context_strings.append(f\"Document: {result['content']}\")\n",
    "        return \"\\n\\n\".join(context_strings) if context_strings else \"No results found\"\n",
    "    \n",
    "\n",
    "\n",
    "\n",
    "class WeatherInfoPlugin:\n",
    "    \"\"\"A Plugin that provides the average temperature for a travel destination.\"\"\"\n",
    "\n",
    "    def __init__(self):\n",
    "        # Dictionary of destinations and their average temperatures\n",
    "        self.destination_temperatures = {\n",
    "            \"maldives\": \"82°F (28°C)\",\n",
    "            \"swiss alps\": \"45°F (7°C)\",\n",
    "            \"african safaris\": \"75°F (24°C)\"\n",
    "        }\n",
    "\n",
    "    @kernel_function(description=\"Get the average temperature for a specific travel destination.\")\n",
    "    def get_destination_temperature(self, destination: str) -> Annotated[str, \"Returns the average temperature for the destination.\"]:\n",
    "        \"\"\"Get the average temperature for a travel destination.\"\"\"\n",
    "        # Normalize the input destination (lowercase)\n",
    "        normalized_destination = destination.lower()\n",
    "\n",
    "        # Look up the temperature for the destination\n",
    "        if normalized_destination in self.destination_temperatures:\n",
    "            return f\"The average temperature in {destination} is {self.destination_temperatures[normalized_destination]}.\"\n",
    "        else:\n",
    "            return f\"Sorry, I don't have temperature information for {destination}. Available destinations are: Maldives, Swiss Alps, and African safaris.\"\n",
    "\n",
    "\n",
    "     "
   ]
  },
  {
   "cell_type": "markdown",
   "id": "07bf1778",
   "metadata": {},
   "source": [
    "## Create Search Service/Index\n",
    "\n",
    "We initialize Azure AI Search with persistent storage and add enhanced sample documents. Azure AI Search will be used to store and retrieve documents that provide context for generating accurate responses."
   ]
  },
  {
   "cell_type": "code",
   "execution_count": null,
   "id": "a1185bba",
   "metadata": {},
   "outputs": [
    {
     "name": "stdout",
     "output_type": "stream",
     "text": [
      "Index 'travel-documents' already exists, using the existing index.\n"
     ]
    },
    {
     "data": {
      "text/plain": [
       "[<azure.search.documents._generated.models._models_py3.IndexingResult at 0x27757cadd10>,\n",
       " <azure.search.documents._generated.models._models_py3.IndexingResult at 0x27757d5c6d0>,\n",
       " <azure.search.documents._generated.models._models_py3.IndexingResult at 0x27757d5ed10>,\n",
       " <azure.search.documents._generated.models._models_py3.IndexingResult at 0x27757d5f7d0>,\n",
       " <azure.search.documents._generated.models._models_py3.IndexingResult at 0x27757d5fd90>]"
      ]
     },
     "execution_count": 6,
     "metadata": {},
     "output_type": "execute_result"
    }
   ],
   "source": [
    "# Initialize Azure AI Search with persistent storage\n",
    "search_service_endpoint = os.getenv(\"AZURE_SEARCH_SERVICE_ENDPOINT\")\n",
    "search_api_key = os.getenv(\"AZURE_SEARCH_API_KEY\")\n",
    "index_name = \"travel-documents\"\n",
    "\n",
    "search_client = SearchClient(\n",
    "    endpoint=search_service_endpoint,\n",
    "    index_name=index_name,\n",
    "    credential=AzureKeyCredential(search_api_key)\n",
    ")\n",
    "\n",
    "index_client = SearchIndexClient(\n",
    "    endpoint=search_service_endpoint,\n",
    "    credential=AzureKeyCredential(search_api_key)\n",
    ")\n",
    "\n",
    "# Define the index schema\n",
    "fields = [\n",
    "    SimpleField(name=\"id\", type=SearchFieldDataType.String, key=True),\n",
    "    SearchableField(name=\"content\", type=SearchFieldDataType.String)\n",
    "]\n",
    "\n",
    "index = SearchIndex(name=index_name, fields=fields)\n",
    "\n",
    "# Check if index already exists if not, create it\n",
    "try:\n",
    "    existing_index = index_client.get_index(index_name)\n",
    "    print(f\"Index '{index_name}' already exists, using the existing index.\")\n",
    "except Exception:\n",
    "    # Create the index if it doesn't exist\n",
    "    print(f\"Creating new index '{index_name}'...\")\n",
    "    index_client.create_index(index)\n",
    "\n",
    "\n",
    "# Enhanced sample documents\n",
    "documents = [\n",
    "    {\"id\": \"1\", \"content\": \"Contoso Travel offers luxury vacation packages to exotic destinations worldwide.\"},\n",
    "    {\"id\": \"2\", \"content\": \"Our premium travel services include personalized itinerary planning and 24/7 concierge support.\"},\n",
    "    {\"id\": \"3\", \"content\": \"Contoso's travel insurance covers medical emergencies, trip cancellations, and lost baggage.\"},\n",
    "    {\"id\": \"4\", \"content\": \"Popular destinations include the Maldives, Swiss Alps, and African safaris.\"},\n",
    "    {\"id\": \"5\", \"content\": \"Contoso Travel provides exclusive access to boutique hotels and private guided tours.\"}\n",
    "]\n",
    "\n",
    "# Add documents to the index\n",
    "search_client.upload_documents(documents)"
   ]
  },
  {
   "cell_type": "markdown",
   "id": "e947e016",
   "metadata": {},
   "source": [
    "## Agent Definition using SK"
   ]
  },
  {
   "cell_type": "code",
   "execution_count": 9,
   "id": "9b63aa92",
   "metadata": {},
   "outputs": [],
   "source": [
    "name = \"Contoso-Travel-Agent\"\n",
    "instructions = \"Answer travel queries using the provided tools and context. If context is provided, do not say 'I have no context for that.'\""
   ]
  },
  {
   "cell_type": "code",
   "execution_count": 10,
   "id": "5137cdf3",
   "metadata": {},
   "outputs": [],
   "source": [
    "agent = ChatCompletionAgent(\n",
    "    service=chat_completion_service,\n",
    "    plugins=[SearchPlugin(search_client=search_client), WeatherInfoPlugin()],\n",
    "    name=name,\n",
    "    instructions=instructions,\n",
    ")\n"
   ]
  },
  {
   "cell_type": "code",
   "execution_count": 11,
   "id": "f305d85d",
   "metadata": {},
   "outputs": [
    {
     "data": {
      "text/html": [
       "<div style='margin-bottom:10px'><div style='font-weight:bold'>User:</div><div style='margin-left:20px'>Can you explain Contoso's travel insurance coverage?</div></div><div style='margin-bottom:20px'><div style='font-weight:bold'>Contoso-Travel-Agent:</div><div style='margin-left:20px; white-space:pre-wrap'>Contoso's travel insurance covers the following:\n",
       "\n",
       "- Medical emergencies\n",
       "- Trip cancellations\n",
       "- Lost baggage\n",
       "\n",
       "If you need details on coverage limits or exclusions, let me know!</div></div><hr>"
      ],
      "text/plain": [
       "<IPython.core.display.HTML object>"
      ]
     },
     "metadata": {},
     "output_type": "display_data"
    },
    {
     "data": {
      "text/html": [
       "<div style='margin-bottom:10px'><div style='font-weight:bold'>User:</div><div style='margin-left:20px'>What is the average temperature of the Maldives?</div></div><div style='margin-bottom:20px'><div style='font-weight:bold'>Contoso-Travel-Agent:</div><div style='margin-left:20px; white-space:pre-wrap'>The average temperature in the Maldives is 82°F (28°C). If you’d like details on seasonal variations or the best time to visit, feel free to ask!</div></div><hr>"
      ],
      "text/plain": [
       "<IPython.core.display.HTML object>"
      ]
     },
     "metadata": {},
     "output_type": "display_data"
    },
    {
     "data": {
      "text/html": [
       "<div style='margin-bottom:10px'><div style='font-weight:bold'>User:</div><div style='margin-left:20px'>What is a good cold destination offered by Contoso and what is it average temperature?</div></div><div style='margin-bottom:20px'><div style='font-weight:bold'>Contoso-Travel-Agent:</div><div style='margin-left:20px; white-space:pre-wrap'>A great cold destination offered by Contoso is the Swiss Alps. The average temperature there is 45°F (7°C), making it a perfect spot for those seeking a cooler climate and picturesque mountain scenery. If you need more details or options, just let me know!</div></div><hr>"
      ],
      "text/plain": [
       "<IPython.core.display.HTML object>"
      ]
     },
     "metadata": {},
     "output_type": "display_data"
    }
   ],
   "source": [
    "async def main():\n",
    "    thread: ChatHistoryAgentThread | None = None\n",
    "\n",
    "    user_inputs = [\n",
    "        \"Can you explain Contoso's travel insurance coverage?\",\n",
    "        \"What is the average temperature of the Maldives?\",\n",
    "        \"What is a good cold destination offered by Contoso and what is it average temperature?\",\n",
    "    ]\n",
    "\n",
    "    for user_input in user_inputs:\n",
    "        html_output = (\n",
    "            f\"<div style='margin-bottom:10px'>\"\n",
    "            f\"<div style='font-weight:bold'>User:</div>\"\n",
    "            f\"<div style='margin-left:20px'>{user_input}</div></div>\"\n",
    "        )\n",
    "\n",
    "        agent_name = None\n",
    "        full_response: list[str] = []\n",
    "        function_calls: list[str] = []\n",
    "\n",
    "        # Buffer to reconstruct streaming function call\n",
    "        current_function_name = None\n",
    "        argument_buffer = \"\"\n",
    "\n",
    "        async for response in agent.invoke_stream(\n",
    "            messages=user_input,\n",
    "            thread=thread,\n",
    "        ):\n",
    "            thread = response.thread\n",
    "            agent_name = response.name\n",
    "            content_items = list(response.items)\n",
    "\n",
    "            for item in content_items:\n",
    "                if isinstance(item, FunctionCallContent):\n",
    "                    if item.function_name:\n",
    "                        current_function_name = item.function_name\n",
    "\n",
    "                    # Accumulate arguments (streamed in chunks)\n",
    "                    if isinstance(item.arguments, str):\n",
    "                        argument_buffer += item.arguments\n",
    "                elif isinstance(item, FunctionResultContent):\n",
    "                    # Finalize any pending function call before showing result\n",
    "                    if current_function_name:\n",
    "                        formatted_args = argument_buffer.strip()\n",
    "                        try:\n",
    "                            parsed_args = json.loads(formatted_args)\n",
    "                            formatted_args = json.dumps(parsed_args)\n",
    "                        except Exception:\n",
    "                            pass  # leave as raw string\n",
    "\n",
    "                        function_calls.append(f\"Calling function: {current_function_name}({formatted_args})\")\n",
    "                        current_function_name = None\n",
    "                        argument_buffer = \"\"\n",
    "\n",
    "                    function_calls.append(f\"\\nFunction Result:\\n\\n{item.result}\")\n",
    "                elif isinstance(item, StreamingTextContent) and item.text:\n",
    "                    full_response.append(item.text)\n",
    "\n",
    "        if function_calls:\n",
    "            html_output += (\n",
    "                \"<div style='margin-bottom:10px'>\"\n",
    "                \"<details>\"\n",
    "                \"<summary style='cursor:pointer; font-weight:bold; color:#0066cc;'>Function Calls (click to expand)</summary>\"\n",
    "                \"<div style='margin:10px; padding:10px; background-color:#f8f8f8; \"\n",
    "                \"border:1px solid #ddd; border-radius:4px; white-space:pre-wrap; font-size:14px; color:#333;'>\"\n",
    "                f\"{chr(10).join(function_calls)}\"\n",
    "                \"</div></details></div>\"\n",
    "            )\n",
    "\n",
    "        html_output += (\n",
    "            \"<div style='margin-bottom:20px'>\"\n",
    "            f\"<div style='font-weight:bold'>{agent_name or 'Assistant'}:</div>\"\n",
    "            f\"<div style='margin-left:20px; white-space:pre-wrap'>{''.join(full_response)}</div></div><hr>\"\n",
    "        )\n",
    "\n",
    "        display(HTML(html_output))\n",
    "\n",
    "await main()\n"
   ]
  },
  {
   "cell_type": "markdown",
   "id": "07509034",
   "metadata": {},
   "source": [
    "# Create Agent using Azure AI Agent Service\n",
    "\n"
   ]
  },
  {
   "cell_type": "code",
   "execution_count": 13,
   "id": "b27432ef",
   "metadata": {},
   "outputs": [],
   "source": [
    "from azure.ai.projects.models import AzureAISearchTool"
   ]
  },
  {
   "cell_type": "code",
   "execution_count": 48,
   "id": "0983f2ef",
   "metadata": {},
   "outputs": [],
   "source": [
    "project_connection_string = os.getenv(\"AZURE_AI_AGENT_PROJECT_CONNECTION_STRING\")\n",
    "model = os.getenv(\"AZURE_AI_AGENT_MODEL_DEPLOYMENT_NAME\")\n",
    "\n",
    "project_client = AIProjectClient.from_connection_string(\n",
    "    conn_str=project_connection_string, credential=DefaultAzureCredential()\n",
    ")"
   ]
  },
  {
   "cell_type": "code",
   "execution_count": 64,
   "id": "a2b6c8e3",
   "metadata": {},
   "outputs": [
    {
     "name": "stdout",
     "output_type": "stream",
     "text": [
      "Available Connections:\n",
      "demosearchservicewinnie ConnectionType.AZURE_AI_SEARCH\n"
     ]
    }
   ],
   "source": [
    "# Get connection ID of the Azure AI Search Tool\n",
    "conn_list = project_client.connections.list()\n",
    "print(\"Available Connections:\")\n",
    "for conn in conn_list:\n",
    "    # print(conn)\n",
    "    if conn.name == \"demosearchservicewinnie\":\n",
    "        print(conn.name, conn.connection_type)\n",
    "        search_connection_id = conn.id\n",
    "\n",
    "# Create the Azure AI Search Tool\n",
    "ai_search_tool = AzureAISearchTool(\n",
    "    index_connection_id=search_connection_id,\n",
    "    index_name=index_name,\n",
    "    top_k=3,\n",
    "    )"
   ]
  },
  {
   "cell_type": "markdown",
   "id": "5e720dbe",
   "metadata": {},
   "source": [
    "## Define Search Agent"
   ]
  },
  {
   "cell_type": "code",
   "execution_count": 65,
   "id": "98898f60",
   "metadata": {},
   "outputs": [
    {
     "name": "stdout",
     "output_type": "stream",
     "text": [
      "Search Agent 'Contoso-Travel-Agent' created with ID: asst_Nbseimp3D1kMGrcrsQqd0QuU\n"
     ]
    }
   ],
   "source": [
    "search_agent = project_client.agents.create_agent(\n",
    "    model=os.environ[\"AZURE_AI_AGENT_MODEL_DEPLOYMENT_NAME\"],\n",
    "    name=name,\n",
    "    instructions=instructions,\n",
    "    tools=ai_search_tool.definitions,\n",
    "    tool_resources=ai_search_tool.resources,\n",
    ") \n",
    "print(f\"Search Agent '{search_agent.name}' created with ID: {search_agent.id}\")\n"
   ]
  },
  {
   "cell_type": "code",
   "execution_count": 66,
   "id": "b3760914",
   "metadata": {},
   "outputs": [
    {
     "name": "stdout",
     "output_type": "stream",
     "text": [
      "Created thread, thread ID: thread_0Bq318mak7teGgY1p8ormozg\n",
      "Created message, message ID: msg_XJsr7fKmys5wlwfgZrmTEQnS\n",
      "Run finished with status: RunStatus.COMPLETED\n",
      "Messages: {'object': 'list', 'data': [{'id': 'msg_MgVQQ4UN5eCZW0eOg2o0O6Sx', 'object': 'thread.message', 'created_at': 1748899915, 'assistant_id': 'asst_Nbseimp3D1kMGrcrsQqd0QuU', 'thread_id': 'thread_0Bq318mak7teGgY1p8ormozg', 'run_id': 'run_5SJ4pWknteFRN32PNlq3bI5Y', 'role': 'assistant', 'content': [{'type': 'text', 'text': {'value': \"Contoso's travel insurance provides coverage for medical emergencies, trip cancellations, and lost baggage【3:2†source】.\", 'annotations': [{'type': 'url_citation', 'text': '【3:2†source】', 'start_index': 106, 'end_index': 118, 'url_citation': {'url': 'doc_2', 'title': 'doc_2'}}]}}], 'attachments': [], 'metadata': {}}, {'id': 'msg_XJsr7fKmys5wlwfgZrmTEQnS', 'object': 'thread.message', 'created_at': 1748899911, 'assistant_id': None, 'thread_id': 'thread_0Bq318mak7teGgY1p8ormozg', 'run_id': None, 'role': 'user', 'content': [{'type': 'text', 'text': {'value': \"Can you explain Contoso's travel insurance coverage?\", 'annotations': []}}], 'attachments': [], 'metadata': {}}], 'first_id': 'msg_MgVQQ4UN5eCZW0eOg2o0O6Sx', 'last_id': 'msg_XJsr7fKmys5wlwfgZrmTEQnS', 'has_more': False}\n",
      "\n",
      " Agent: Contoso's travel insurance provides coverage for medical emergencies, trip cancellations, and lost baggage【3:2†source】.\n"
     ]
    }
   ],
   "source": [
    "# Create a thread which is a conversation session between an agent and a user.\n",
    "thread = project_client.agents.create_thread()\n",
    "print(f\"Created thread, thread ID: {thread.id}\")\n",
    "\n",
    "# Create a prompt which contains the data + details for how the agent should generate the bar chart\n",
    "prompt = \"Can you explain Contoso's travel insurance coverage?\"\n",
    "\n",
    "# Create a message, with the prompt being the message content that is sent to the model\n",
    "message = project_client.agents.create_message(\n",
    "    thread_id=thread.id,\n",
    "    role=\"user\",\n",
    "    content=prompt,\n",
    ")\n",
    "print(f\"Created message, message ID: {message.id}\")\n",
    "\n",
    "# Run the agent to process tne message in the thread\n",
    "run = project_client.agents.create_and_process_run(thread_id=thread.id, agent_id=search_agent.id)\n",
    "print(f\"Run finished with status: {run.status}\")\n",
    "\n",
    "if run.status == \"failed\":\n",
    "    # Check if you got \"Rate limit is exceeded.\", then you want to increase the token limit\n",
    "    print(f\"Run failed: {run.last_error}\")\n",
    "\n",
    "# Get all messages from the thread\n",
    "messages = project_client.agents.list_messages(thread_id=thread.id)\n",
    "print(f\"Messages: {messages}\")\n",
    "\n",
    "# Display the last message from the assistant\n",
    "print('\\n Agent:', messages.get_last_text_message_by_role(\"assistant\").text.value)"
   ]
  }
 ],
 "metadata": {
  "kernelspec": {
   "display_name": "venv",
   "language": "python",
   "name": "python3"
  },
  "language_info": {
   "codemirror_mode": {
    "name": "ipython",
    "version": 3
   },
   "file_extension": ".py",
   "mimetype": "text/x-python",
   "name": "python",
   "nbconvert_exporter": "python",
   "pygments_lexer": "ipython3",
   "version": "3.11.9"
  }
 },
 "nbformat": 4,
 "nbformat_minor": 5
}
